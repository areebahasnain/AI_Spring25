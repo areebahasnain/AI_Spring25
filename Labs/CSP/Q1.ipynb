{
 "cells": [
  {
   "cell_type": "code",
   "execution_count": 9,
   "id": "de1adcd0",
   "metadata": {},
   "outputs": [],
   "source": [
    "from ortools.sat.python import cp_model"
   ]
  },
  {
   "cell_type": "code",
   "execution_count": 10,
   "id": "6d685429",
   "metadata": {},
   "outputs": [],
   "source": [
    "# Data \n",
    "frequencies = [15, 8, 20]\n",
    "volumes = [2, 1, 3]\n",
    "distances = [1, 2, 3]\n",
    "\n",
    "num_products = len(frequencies)\n",
    "num_slots = len(distances)"
   ]
  },
  {
   "cell_type": "code",
   "execution_count": 11,
   "id": "b1c2f5f0",
   "metadata": {},
   "outputs": [],
   "source": [
    "model = cp_model.CpModel()"
   ]
  },
  {
   "cell_type": "code",
   "execution_count": 12,
   "id": "e78f59cd",
   "metadata": {},
   "outputs": [],
   "source": [
    "# Step 1: Define Variables\n",
    "# product_to_slot[p] = slot index where product p is placed\n",
    "product_to_slot = [model.NewIntVar(0, num_slots - 1, f'product_{p}_slot') for p in range(num_products)]"
   ]
  },
  {
   "cell_type": "code",
   "execution_count": 13,
   "id": "491fe5f4",
   "metadata": {},
   "outputs": [
    {
     "data": {
      "text/plain": [
       "<ortools.sat.python.cp_model.Constraint at 0x169ae88e2a0>"
      ]
     },
     "execution_count": 13,
     "metadata": {},
     "output_type": "execute_result"
    }
   ],
   "source": [
    "# Step 2: Each slot holds at most one product\n",
    "model.AddAllDifferent(product_to_slot)"
   ]
  },
  {
   "cell_type": "code",
   "execution_count": 14,
   "id": "830e76b0",
   "metadata": {},
   "outputs": [],
   "source": [
    "# Step 3: Define cost expression: sum of (distance of slot * frequency of product)\n",
    "total_cost = model.NewIntVar(0, 1000, 'total_cost')\n",
    "cost_terms = []\n",
    "for p in range(num_products):\n",
    "    # Add an intermediate variable: distance_of_assigned_slot[p]\n",
    "    slot_distance = model.NewIntVar(0, max(distances), f'distance_of_product_{p}')\n",
    "    # Create table: product_to_slot[p] => distances\n",
    "    model.AddElement(product_to_slot[p], distances, slot_distance)\n",
    "    # Multiply frequency × distance\n",
    "    cost_term = model.NewIntVar(0, 1000, f'cost_p{p}')\n",
    "    model.AddMultiplicationEquality(cost_term, [frequencies[p], slot_distance])\n",
    "    cost_terms.append(cost_term)\n",
    "\n",
    "# Total cost = sum of all cost_terms\n",
    "model.Add(total_cost == sum(cost_terms))\n",
    "model.Minimize(total_cost)"
   ]
  },
  {
   "cell_type": "code",
   "execution_count": 15,
   "id": "7f2ca0e1",
   "metadata": {},
   "outputs": [],
   "source": [
    "# Step 4: Solve\n",
    "solver = cp_model.CpSolver()\n",
    "status = solver.Solve(model)"
   ]
  },
  {
   "cell_type": "code",
   "execution_count": 16,
   "id": "4147e29d",
   "metadata": {},
   "outputs": [
    {
     "name": "stdout",
     "output_type": "stream",
     "text": [
      "\n",
      "Total Walking Cost: 74\n",
      "Product 1 assigned to Slot 2 (Distance = 2)\n",
      "Product 2 assigned to Slot 3 (Distance = 3)\n",
      "Product 3 assigned to Slot 1 (Distance = 1)\n"
     ]
    }
   ],
   "source": [
    "# Step 5: Output\n",
    "if status == cp_model.OPTIMAL or status == cp_model.FEASIBLE:\n",
    "    print(f'\\nTotal Walking Cost: {solver.Value(total_cost)}')\n",
    "    for p in range(num_products):\n",
    "        assigned_slot = solver.Value(product_to_slot[p])\n",
    "        print(f'Product {p+1} assigned to Slot {assigned_slot+1} (Distance = {distances[assigned_slot]})')\n",
    "else:\n",
    "    print(\"No valid assignment found.\")"
   ]
  }
 ],
 "metadata": {
  "kernelspec": {
   "display_name": "Python 3",
   "language": "python",
   "name": "python3"
  },
  "language_info": {
   "codemirror_mode": {
    "name": "ipython",
    "version": 3
   },
   "file_extension": ".py",
   "mimetype": "text/x-python",
   "name": "python",
   "nbconvert_exporter": "python",
   "pygments_lexer": "ipython3",
   "version": "3.12.5"
  }
 },
 "nbformat": 4,
 "nbformat_minor": 5
}
