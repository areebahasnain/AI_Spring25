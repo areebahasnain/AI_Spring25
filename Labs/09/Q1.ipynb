{
 "cells": [
  {
   "cell_type": "code",
   "execution_count": null,
   "id": "343ee429",
   "metadata": {},
   "outputs": [],
   "source": [
    "import pandas as pd\n",
    "from sklearn.model_selection import train_test_split\n",
    "from sklearn.linear_model import LinearRegression\n",
    "from sklearn.metrics import r2_score, mean_squared_error\n",
    "from sklearn.preprocessing import LabelEncoder\n",
    "import numpy as np"
   ]
  },
  {
   "cell_type": "code",
   "execution_count": null,
   "id": "312e5d8e",
   "metadata": {},
   "outputs": [
    {
     "name": "stdout",
     "output_type": "stream",
     "text": [
      "Original Data Sample\n",
      "   SquareFeet  Bedrooms  Bathrooms   Age Neighborhood   Price\n",
      "0      3974.0       4.0          1  32.0            B  625050\n",
      "1      1660.0       5.0          1  47.0            C  268217\n",
      "2      2094.0       1.0          3  11.0            B  381043\n",
      "3      1930.0       5.0          1  21.0            A  356021\n",
      "4      1895.0       5.0          2   NaN            B  315302\n",
      "\n",
      "Missing values before handling:\n",
      "SquareFeet      1\n",
      "Bedrooms        1\n",
      "Bathrooms       0\n",
      "Age             1\n",
      "Neighborhood    2\n",
      "Price           0\n",
      "dtype: int64\n",
      "\n",
      "Final Preprocessed Data:\n",
      "   SquareFeet  Bedrooms  Bathrooms        Age  Neighborhood   Price\n",
      "0      3974.0       4.0          1  32.000000             1  625050\n",
      "1      1660.0       5.0          1  47.000000             2  268217\n",
      "2      2094.0       1.0          3  11.000000             1  381043\n",
      "3      1930.0       5.0          1  21.000000             0  356021\n",
      "4      1895.0       5.0          2  27.444444             1  315302\n"
     ]
    }
   ],
   "source": [
    "df = pd.read_csv(\"house_prices.csv\")\n",
    "print(\"Original Data Sample\")\n",
    "print(df.head())\n",
    "\n",
    "print(\"\\nMissing values before handling:\")\n",
    "print(df.isnull().sum())\n",
    "\n",
    "df['SquareFeet'] = df['SquareFeet'].fillna(df['SquareFeet'].mean())\n",
    "df['Bedrooms'] = df['Bedrooms'].fillna(df['Bedrooms'].mean())\n",
    "df['Bathrooms'] = df['Bathrooms'].fillna(df['Bathrooms'].mean())\n",
    "df['Age'] = df['Age'].fillna(df['Age'].mean())\n",
    "df['Neighborhood'] = df['Neighborhood'].fillna(df['Neighborhood'].mode()[0])\n",
    "\n",
    "le = LabelEncoder()\n",
    "df['Neighborhood'] = le.fit_transform(df['Neighborhood'])\n",
    "\n",
    "print(\"\\nFinal Preprocessed Data:\")\n",
    "print(df.head())\n"
   ]
  },
  {
   "cell_type": "code",
   "execution_count": null,
   "id": "e4dddb1e",
   "metadata": {},
   "outputs": [
    {
     "name": "stdout",
     "output_type": "stream",
     "text": [
      "\n",
      "Feature Correlation with Price:\n",
      "Price           1.000000\n",
      "SquareFeet      0.980033\n",
      "Bathrooms       0.109665\n",
      "Neighborhood    0.102283\n",
      "Bedrooms       -0.018407\n",
      "Age            -0.147243\n",
      "Name: Price, dtype: float64\n"
     ]
    }
   ],
   "source": [
    "# relevant features that most likely impact the price.\n",
    "correlation = df.corr()\n",
    "print(\"\\nFeature Correlation with Price:\")\n",
    "print(correlation['Price'].sort_values(ascending=False))"
   ]
  },
  {
   "cell_type": "code",
   "execution_count": null,
   "id": "91a14c04",
   "metadata": {},
   "outputs": [
    {
     "name": "stdout",
     "output_type": "stream",
     "text": [
      "\n",
      "Model Evaluation:\n",
      "R2 Score: 0.98\n",
      "Mean Squared Error: 484894778.40\n"
     ]
    }
   ],
   "source": [
    "# Evaluate the performance of the model\n",
    "features = ['SquareFeet', 'Bedrooms', 'Bathrooms', 'Age', 'Neighborhood']\n",
    "X = df[features]\n",
    "y = df['Price']\n",
    "\n",
    "X_train, X_test, y_train, y_test = train_test_split(X, y, test_size=0.2, random_state=42)\n",
    "\n",
    "model = LinearRegression()\n",
    "model.fit(X_train, y_train)\n",
    "\n",
    "y_pred = model.predict(X_test)\n",
    "r2 = r2_score(y_test, y_pred)\n",
    "mse = mean_squared_error(y_test, y_pred)\n",
    "print(f\"\\nModel Evaluation:\")\n",
    "print(f\"R2 Score: {r2:.2f}\")\n",
    "print(f\"Mean Squared Error: {mse:.2f}\")"
   ]
  },
  {
   "cell_type": "code",
   "execution_count": null,
   "id": "779ba956",
   "metadata": {},
   "outputs": [
    {
     "name": "stdout",
     "output_type": "stream",
     "text": [
      "\n",
      "Predicted Price for New House: $401,257.00\n"
     ]
    }
   ],
   "source": [
    "# Predict the price of a house given a new set of features.\n",
    "# Example: 2200 sqft, 3 bedrooms, 2 bathrooms, 5 years old, neighborhood = 'A'\n",
    "\n",
    "new_data = pd.DataFrame([{\n",
    "    'SquareFeet': 2200,\n",
    "    'Bedrooms': 3,\n",
    "    'Bathrooms': 2,\n",
    "    'Age': 5,\n",
    "    'Neighborhood': le.transform(['A'])[0]  # Encode same as training\n",
    "}])\n",
    "\n",
    "predicted_price = model.predict(new_data)[0]\n",
    "print(f\"\\nPredicted Price for New House: ${predicted_price:,.2f}\")"
   ]
  }
 ],
 "metadata": {
  "kernelspec": {
   "display_name": "Python 3",
   "language": "python",
   "name": "python3"
  },
  "language_info": {
   "codemirror_mode": {
    "name": "ipython",
    "version": 3
   },
   "file_extension": ".py",
   "mimetype": "text/x-python",
   "name": "python",
   "nbconvert_exporter": "python",
   "pygments_lexer": "ipython3",
   "version": "3.12.5"
  }
 },
 "nbformat": 4,
 "nbformat_minor": 5
}
