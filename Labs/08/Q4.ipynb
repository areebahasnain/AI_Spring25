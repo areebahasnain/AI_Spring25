{
 "cells": [
  {
   "cell_type": "code",
   "execution_count": 1,
   "id": "29920c02",
   "metadata": {},
   "outputs": [
    {
     "name": "stderr",
     "output_type": "stream",
     "text": [
      "c:\\Users\\HP\\AppData\\Local\\Programs\\Python\\Python312\\Lib\\site-packages\\tqdm\\auto.py:21: TqdmWarning: IProgress not found. Please update jupyter and ipywidgets. See https://ipywidgets.readthedocs.io/en/stable/user_install.html\n",
      "  from .autonotebook import tqdm as notebook_tqdm\n"
     ]
    }
   ],
   "source": [
    "import numpy as np\n",
    "from pgmpy.models import DiscreteBayesianNetwork\n",
    "from pgmpy.factors.discrete import TabularCPD\n",
    "from pgmpy.inference import VariableElimination"
   ]
  },
  {
   "cell_type": "code",
   "execution_count": 2,
   "id": "6eb87418",
   "metadata": {},
   "outputs": [
    {
     "data": {
      "text/plain": [
       "[np.str_('Cloudy'),\n",
       " np.str_('Rainy'),\n",
       " np.str_('Rainy'),\n",
       " np.str_('Cloudy'),\n",
       " np.str_('Rainy'),\n",
       " np.str_('Cloudy'),\n",
       " np.str_('Cloudy'),\n",
       " np.str_('Cloudy'),\n",
       " np.str_('Cloudy'),\n",
       " np.str_('Cloudy')]"
      ]
     },
     "execution_count": 2,
     "metadata": {},
     "output_type": "execute_result"
    }
   ],
   "source": [
    "states = [\"Sunny\", \"Cloudy\", \"Rainy\"]\n",
    "\n",
    "T = np.array([\n",
    "  [0.50, 0.40, 0.10],\n",
    "  [0.30, 0.35, 0.35],\n",
    "  [0.20, 0.50, 0.30]\n",
    "])\n",
    "\n",
    "def simulate(init: str, n: int = 10):\n",
    "  current = init\n",
    "  sequence = []\n",
    "\n",
    "  for _ in range(n):\n",
    "    match current:\n",
    "      case \"Sunny\":\n",
    "        _next = np.random.choice(states, p=T[0])\n",
    "      case \"Cloudy\":\n",
    "        _next = np.random.choice(states, p=T[1])\n",
    "      case \"Rainy\":\n",
    "        _next = np.random.choice(states, p=T[2])\n",
    "    current = _next\n",
    "    sequence.append(current)\n",
    "  \n",
    "  return sequence\n",
    "\n",
    "simulate(\"Sunny\", 10)"
   ]
  }
 ],
 "metadata": {
  "kernelspec": {
   "display_name": "Python 3",
   "language": "python",
   "name": "python3"
  },
  "language_info": {
   "codemirror_mode": {
    "name": "ipython",
    "version": 3
   },
   "file_extension": ".py",
   "mimetype": "text/x-python",
   "name": "python",
   "nbconvert_exporter": "python",
   "pygments_lexer": "ipython3",
   "version": "3.12.5"
  }
 },
 "nbformat": 4,
 "nbformat_minor": 5
}
