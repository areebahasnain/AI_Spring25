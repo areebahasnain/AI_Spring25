{
 "cells": [
  {
   "cell_type": "code",
   "execution_count": 62,
   "id": "8796b2ff",
   "metadata": {},
   "outputs": [],
   "source": [
    "from pgmpy.models import BayesianNetwork\n",
    "from pgmpy.factors.discrete import TabularCPD\n",
    "from pgmpy.inference import VariableElimination"
   ]
  },
  {
   "cell_type": "code",
   "execution_count": 63,
   "id": "5e8f91b1",
   "metadata": {},
   "outputs": [],
   "source": [
    "grade_states = ['A', 'B', 'C']\n",
    "intel_states = ['High', 'Low']\n",
    "study_states = ['Sufficient', 'Insufficient']\n",
    "difficulty_states = ['Hard', 'Easy']\n",
    "pass_states = ['Yes', 'No'] "
   ]
  },
  {
   "cell_type": "code",
   "execution_count": 64,
   "id": "3f039b21",
   "metadata": {},
   "outputs": [],
   "source": [
    "model = DiscreteBayesianNetwork([\n",
    "  ('Intelligence', 'Grade'),\n",
    "  ('Study Hours', 'Grade'),\n",
    "  ('Difficulty', 'Grade'),\n",
    "  ('Grade', 'Pass')\n",
    "])"
   ]
  },
  {
   "cell_type": "code",
   "execution_count": 65,
   "id": "eff3a165",
   "metadata": {},
   "outputs": [],
   "source": [
    "cpd_intel = TabularCPD(\n",
    "    variable='Intelligence',\n",
    "    variable_card=2,\n",
    "    values=[\n",
    "        [0.7], # high\n",
    "        [0.3]  # low\n",
    "    ],\n",
    "    state_names={\n",
    "        'Intelligence': intel_states\n",
    "    }\n",
    ")\n",
    "\n",
    "cpd_study = TabularCPD(\n",
    "    variable='Study Hours',\n",
    "    variable_card=2,\n",
    "    values=[\n",
    "        [0.6], # Suff\n",
    "        [0.4]  # Insuff\n",
    "    ],\n",
    "    state_names={\n",
    "    'Study Hours': study_states\n",
    "  }\n",
    ")\n",
    "\n",
    "cpd_diff = TabularCPD(\n",
    "  variable='Difficulty',\n",
    "  variable_card=2,\n",
    "  values=[\n",
    "    [0.4],\n",
    "    [0.6]\n",
    "  ],\n",
    "  state_names={\n",
    "    'Difficulty': difficulty_states\n",
    "  }\n",
    ")\n",
    "\n",
    "# P(Grade | Intel, Study, Diff)\n",
    "cpd_grade = TabularCPD(\n",
    "  variable='Grade',\n",
    "  variable_card=3,\n",
    "  values=[\n",
    "    [0.8, 0.6, 0.5, 0.3, 0.4, 0.2, 0.2, 0.1],  #  A             \n",
    "    [0.2, 0.3, 0.4, 0.4, 0.4, 0.4, 0.3, 0.2],  #  B\n",
    "    [0.0, 0.1, 0.1, 0.3, 0.2, 0.4, 0.5, 0.7]   #  C          \n",
    "  ],\n",
    "  evidence=['Intelligence', 'Study Hours', 'Difficulty'],\n",
    "  evidence_card=[2, 2, 2],\n",
    "  state_names={\n",
    "    'Intelligence': intel_states,\n",
    "    'Study Hours': study_states,\n",
    "    'Difficulty': difficulty_states,\n",
    "    'Grade': grade_states\n",
    "  }\n",
    ")\n",
    "\n",
    "# P(Pass | Grade)\n",
    "cpd_pass = TabularCPD(\n",
    "  variable='Pass',\n",
    "  variable_card=2,\n",
    "  values=[\n",
    "    [0.95, 0.8, 0.5], # yes\n",
    "    [0.05, 0.2, 0.5]  # no\n",
    "  ],\n",
    "  evidence=['Grade'],\n",
    "  evidence_card=[3],\n",
    "  state_names={\n",
    "    'Grade': grade_states,\n",
    "    'Pass': pass_states\n",
    "  }\n",
    ")"
   ]
  },
  {
   "cell_type": "code",
   "execution_count": 66,
   "id": "464162f3",
   "metadata": {},
   "outputs": [],
   "source": [
    "model.add_cpds(cpd_diff, cpd_intel, cpd_grade, cpd_pass, cpd_study)"
   ]
  },
  {
   "cell_type": "code",
   "execution_count": 67,
   "id": "a6ab5ce2",
   "metadata": {},
   "outputs": [],
   "source": [
    "inference = VariableElimination(model)"
   ]
  },
  {
   "cell_type": "code",
   "execution_count": 68,
   "id": "4ba83f94",
   "metadata": {},
   "outputs": [
    {
     "name": "stdout",
     "output_type": "stream",
     "text": [
      "+-----------+-------------+\n",
      "| Pass      |   phi(Pass) |\n",
      "+===========+=============+\n",
      "| Pass(Yes) |      0.8840 |\n",
      "+-----------+-------------+\n",
      "| Pass(No)  |      0.1160 |\n",
      "+-----------+-------------+\n"
     ]
    }
   ],
   "source": [
    "# Probability that the student passes the exam, given: StudyHours = Sufficient, Difficulty = Hard\n",
    "result1 = inference.query(variables=['Pass'], evidence={'Study Hours': 'Sufficient', 'Difficulty': 'Hard'})\n",
    "print(result1)"
   ]
  },
  {
   "cell_type": "code",
   "execution_count": 69,
   "id": "8f9bc3e4",
   "metadata": {},
   "outputs": [
    {
     "name": "stdout",
     "output_type": "stream",
     "text": [
      "+--------------------+---------------------+\n",
      "| Intelligence       |   phi(Intelligence) |\n",
      "+====================+=====================+\n",
      "| Intelligence(High) |              0.7380 |\n",
      "+--------------------+---------------------+\n",
      "| Intelligence(Low)  |              0.2620 |\n",
      "+--------------------+---------------------+\n"
     ]
    }
   ],
   "source": [
    "# What is the probability that the student has High Intelligence, given: Pass = Yes\n",
    "result2 = inference.query(variables=['Intelligence'], evidence={'Pass': 'Yes'})\n",
    "print(result2)"
   ]
  }
 ],
 "metadata": {
  "kernelspec": {
   "display_name": "Python 3",
   "language": "python",
   "name": "python3"
  },
  "language_info": {
   "codemirror_mode": {
    "name": "ipython",
    "version": 3
   },
   "file_extension": ".py",
   "mimetype": "text/x-python",
   "name": "python",
   "nbconvert_exporter": "python",
   "pygments_lexer": "ipython3",
   "version": "3.12.5"
  }
 },
 "nbformat": 4,
 "nbformat_minor": 5
}
