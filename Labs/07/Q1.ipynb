{
 "cells": [
  {
   "cell_type": "code",
   "execution_count": 5,
   "id": "4bdb2236",
   "metadata": {},
   "outputs": [
    {
     "name": "stdout",
     "output_type": "stream",
     "text": [
      "P(Red) = 0.5\n"
     ]
    }
   ],
   "source": [
    "# Total cards = 52\n",
    "# Probability of drawing a red card (hearts or diamonds)\n",
    "p_red = (2 * 13) / 52\n",
    "print(\"P(Red) =\", p_red)"
   ]
  },
  {
   "cell_type": "code",
   "execution_count": 6,
   "id": "38d4ecbe",
   "metadata": {},
   "outputs": [
    {
     "name": "stdout",
     "output_type": "stream",
     "text": [
      "P(Hearts | Red) = 0.5\n"
     ]
    }
   ],
   "source": [
    "# Given a red card, probability it's a heart\n",
    "# P(Hearts | Red) = P(Hearts ∩ Red) / P(Red) \n",
    "p_hearts_and_red = 13 / 52\n",
    "p_hearts_given_red = p_hearts_and_red / p_red\n",
    "print(\"P(Hearts | Red) =\", p_hearts_given_red)\n"
   ]
  },
  {
   "cell_type": "code",
   "execution_count": 7,
   "id": "0f483bda",
   "metadata": {},
   "outputs": [
    {
     "name": "stdout",
     "output_type": "stream",
     "text": [
      "P(Diamond | Face) = 0.25\n"
     ]
    }
   ],
   "source": [
    "# Given a face card, probability it's a diamond\n",
    "# Face cards = 3 per suit * 4 suits = 12 total\n",
    "p_face_cards = (3 * 4) / 52\n",
    "# Diamond face cards = 3 (J♦, Q♦, K♦)\n",
    "p_diamond_face_cards = 3 / 52\n",
    "p_diamonds_given_face_cards = p_diamond_face_cards / p_face_cards\n",
    "print(\"P(Diamond | Face) =\", p_diamonds_given_face_cards)"
   ]
  },
  {
   "cell_type": "code",
   "execution_count": 8,
   "id": "63d3f6e4",
   "metadata": {},
   "outputs": [
    {
     "name": "stdout",
     "output_type": "stream",
     "text": [
      "P(Spade OR Queen | Face) = 0.5\n"
     ]
    }
   ],
   "source": [
    "# Given a face card, probability it's a spade or a queen\n",
    "# Spade face cards = 3 (J♠, Q♠, K♠)\n",
    "# Queens of all suits = 4 (Q♠, Q♥, Q♦, Q♣)\n",
    "# Intersection (Q♠) is counted once, so total = 3 + 4 - 1 = 6 cards\n",
    "# Among the 12 face cards, 6 are either spades OR queens\n",
    "p_spade_or_queen_given_face = 6 / 12  # Divide by total face cards (12)\n",
    "print(\"P(Spade OR Queen | Face) =\", p_spade_or_queen_given_face)"
   ]
  }
 ],
 "metadata": {
  "kernelspec": {
   "display_name": "Python 3",
   "language": "python",
   "name": "python3"
  },
  "language_info": {
   "codemirror_mode": {
    "name": "ipython",
    "version": 3
   },
   "file_extension": ".py",
   "mimetype": "text/x-python",
   "name": "python",
   "nbconvert_exporter": "python",
   "pygments_lexer": "ipython3",
   "version": "3.12.5"
  }
 },
 "nbformat": 4,
 "nbformat_minor": 5
}
